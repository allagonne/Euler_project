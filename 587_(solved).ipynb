{
  "nbformat": 4,
  "nbformat_minor": 0,
  "metadata": {
    "colab": {
      "provenance": [],
      "authorship_tag": "ABX9TyOh9+40b2ZjUS4aeut/MKf+",
      "include_colab_link": true
    },
    "kernelspec": {
      "name": "python3",
      "display_name": "Python 3"
    },
    "language_info": {
      "name": "python"
    }
  },
  "cells": [
    {
      "cell_type": "markdown",
      "metadata": {
        "id": "view-in-github",
        "colab_type": "text"
      },
      "source": [
        "<a href=\"https://colab.research.google.com/github/allagonne/Euler_project/blob/master/587_(solved).ipynb\" target=\"_parent\"><img src=\"https://colab.research.google.com/assets/colab-badge.svg\" alt=\"Open In Colab\"/></a>"
      ]
    },
    {
      "cell_type": "code",
      "execution_count": null,
      "metadata": {
        "id": "W3ePk-ritNWp"
      },
      "outputs": [],
      "source": [
        "## n is the number of circles of diameter 1\n",
        "## the rectangle has a size of n*1, and area of n\n",
        "## every circle has an area pi*0.5**2\n",
        "## the 1st circle has an equation of (x-0.5)**2 + (y-0.5)**2 = 0.5**2\n",
        "## the line crossing the circles has an equation y = x*1/n\n",
        "## replacing in 1st equation gives (1+1/n**2)*x**2-(1+1/n)*x+1/4 = 0\n",
        "## we now have the crossing point (X,Y) between the 1st circle and the line\n",
        "## area_concave is then the left area triangle (X*Y/2) + the remainder of the integral of the circle over [X, 0.5] segment"
      ]
    },
    {
      "cell_type": "code",
      "source": [
        "from math import sqrt, pi\n",
        "import scipy.integrate as integrate\n",
        "circle_eq = (1/4-x**2)**0.5\n",
        "area_L = 0.25*(1-0.25*pi)\n",
        "n = 1\n",
        "thr = 0.001\n",
        "while True:\n",
        "  a,b,c = 1+1/n**2, -1-1/n, 1/4\n",
        "  d = (b**2) - (4*a*c)\n",
        "  X = (-b-sqrt(d))/(2*a)\n",
        "  Y = X/n\n",
        "  area_left = X*Y/2\n",
        "  area_right = (0.5-X)*0.5 - integrate.quad(lambda x: (1/4-x**2)**0.5, 0, 0.5-X)[0]\n",
        "  area_concave = area_left + area_right\n",
        "  prct = area_concave/area_L\n",
        "  if prct < thr:\n",
        "    print(n,X,Y, area_concave, area_L,prct)\n",
        "    break\n",
        "  n+=1"
      ],
      "metadata": {
        "colab": {
          "base_uri": "https://localhost:8080/"
        },
        "id": "RH-7QxV6ufa9",
        "outputId": "f85d0512-56f4-4ca6-d2b5-8e6b5ff18d1b"
      },
      "execution_count": 25,
      "outputs": [
        {
          "output_type": "stream",
          "name": "stdout",
          "text": [
            "2240 0.4852827599529241 0.00021664408926469825 5.362952968816379e-05 0.05365045915063793 0.000999609892202127\n"
          ]
        }
      ]
    },
    {
      "cell_type": "code",
      "source": [
        "0.05365*4+pi*0.5*0.5"
      ],
      "metadata": {
        "colab": {
          "base_uri": "https://localhost:8080/"
        },
        "id": "SnsTGMwIAiLN",
        "outputId": "04a06e40-f4d5-49ac-bd0a-8ccf6e439cbd"
      },
      "execution_count": 19,
      "outputs": [
        {
          "output_type": "execute_result",
          "data": {
            "text/plain": [
              "0.9999981633974483"
            ]
          },
          "metadata": {},
          "execution_count": 19
        }
      ]
    },
    {
      "cell_type": "code",
      "source": [
        "pi/16"
      ],
      "metadata": {
        "colab": {
          "base_uri": "https://localhost:8080/"
        },
        "id": "NxTp8Vl-BVI2",
        "outputId": "6636412c-9578-4e97-9cf7-717ebc37672c"
      },
      "execution_count": 10,
      "outputs": [
        {
          "output_type": "execute_result",
          "data": {
            "text/plain": [
              "0.19634954084936207"
            ]
          },
          "metadata": {},
          "execution_count": 10
        }
      ]
    },
    {
      "cell_type": "code",
      "source": [
        "import scipy.integrate as integrate\n",
        "result = integrate.quad(lambda x: (1/4-x**2)**0.5, 0, 0.5)[0]\n",
        "result"
      ],
      "metadata": {
        "colab": {
          "base_uri": "https://localhost:8080/"
        },
        "id": "bAcjnlqrGDcm",
        "outputId": "8b0afb08-0623-40ae-e892-852700b792cb"
      },
      "execution_count": 12,
      "outputs": [
        {
          "output_type": "execute_result",
          "data": {
            "text/plain": [
              "0.19634954084936201"
            ]
          },
          "metadata": {},
          "execution_count": 12
        }
      ]
    },
    {
      "cell_type": "code",
      "source": [
        "integrate.quad(lambda x: (1/4-x**2)**0.5, 0, 0.5)[0]"
      ],
      "metadata": {
        "colab": {
          "base_uri": "https://localhost:8080/"
        },
        "id": "rpUsQO-_KTXb",
        "outputId": "e4c6cbfa-0ab8-440d-e993-9d9382b56c3c"
      },
      "execution_count": 17,
      "outputs": [
        {
          "output_type": "execute_result",
          "data": {
            "text/plain": [
              "0.19634954084936201"
            ]
          },
          "metadata": {},
          "execution_count": 17
        }
      ]
    }
  ]
}