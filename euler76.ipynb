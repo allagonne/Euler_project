{
  "nbformat": 4,
  "nbformat_minor": 0,
  "metadata": {
    "colab": {
      "provenance": []
    },
    "kernelspec": {
      "name": "python3",
      "display_name": "Python 3"
    },
    "language_info": {
      "name": "python"
    }
  },
  "cells": [
    {
      "cell_type": "code",
      "execution_count": 15,
      "metadata": {
        "colab": {
          "base_uri": "https://localhost:8080/"
        },
        "id": "OM9De_zOo7i6",
        "outputId": "3c6a858d-e883-4867-d2b1-38b781a67038"
      },
      "outputs": [
        {
          "output_type": "execute_result",
          "data": {
            "text/plain": [
              "[1, 4, 5, 5, 3, 2, 1, 1]"
            ]
          },
          "metadata": {},
          "execution_count": 15
        }
      ],
      "source": [
        "def ss(n,k):\n",
        "  '''all summations for integer n with at least 1 time integer k with no integer over k'''\n",
        "  if k in [1, n-1, n]:\n",
        "    return 1\n",
        "  elif k == 2:\n",
        "    return int(n/2)\n",
        "  elif k>2 and k<n-1:\n",
        "    return sum([ss(n-k, j) for j in range(1,k+1)])\n",
        "  else: return 0\n",
        "def s(n):\n",
        "  ''' list of all summations for integer n '''\n",
        "  return [ss(n,i) for i in range(1,n+1)]\n",
        "#testing\n",
        "#[ss(8,k) for k in range(1, 9)]\n",
        "#[sum(s(j)) for j in range(3,9)]"
      ]
    },
    {
      "cell_type": "code",
      "source": [
        "sum(s(100)) -1 #except 100"
      ],
      "metadata": {
        "colab": {
          "base_uri": "https://localhost:8080/"
        },
        "id": "tJk-1XQgpgch",
        "outputId": "7f5c2e16-5393-449d-9f64-5f84c17eb06f"
      },
      "execution_count": 18,
      "outputs": [
        {
          "output_type": "execute_result",
          "data": {
            "text/plain": [
              "190569292"
            ]
          },
          "metadata": {},
          "execution_count": 18
        }
      ]
    }
  ]
}