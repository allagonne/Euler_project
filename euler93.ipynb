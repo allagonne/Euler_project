{
  "nbformat": 4,
  "nbformat_minor": 0,
  "metadata": {
    "colab": {
      "provenance": []
    },
    "kernelspec": {
      "name": "python3",
      "display_name": "Python 3"
    },
    "language_info": {
      "name": "python"
    }
  },
  "cells": [
    {
      "cell_type": "code",
      "source": [
        "from sympy import sympify\n",
        "from itertools import permutations, product\n",
        "from random import choices"
      ],
      "metadata": {
        "id": "9KBLNkyffgt4"
      },
      "execution_count": 5,
      "outputs": []
    },
    {
      "cell_type": "code",
      "execution_count": 2,
      "metadata": {
        "colab": {
          "base_uri": "https://localhost:8080/"
        },
        "id": "epuLzN-IfGL2",
        "outputId": "6a84dd84-f981-49fe-b2b4-77041a39cade"
      },
      "outputs": [
        {
          "output_type": "execute_result",
          "data": {
            "text/plain": [
              "0.25"
            ]
          },
          "metadata": {},
          "execution_count": 2
        }
      ],
      "source": [
        "a = '2/(1+3+4)'\n",
        "float(sympify(a))"
      ]
    },
    {
      "cell_type": "code",
      "source": [
        "signs = [p for p in product(['+','-','*','/'], repeat=3)]"
      ],
      "metadata": {
        "id": "Dp2dyGMmgrgp"
      },
      "execution_count": 3,
      "outputs": []
    },
    {
      "cell_type": "code",
      "source": [
        "parenthesis = [['(',')','',''], ['(','',')',''], ['','(',')',''], ['','(','',')'], ['','','(',')']]\n"
      ],
      "metadata": {
        "id": "wqh5EpBsk-FG"
      },
      "execution_count": 4,
      "outputs": []
    },
    {
      "cell_type": "code",
      "source": [
        "def get_results(listnum):\n",
        "  parenthesis = [['','', '','','',''],['(','', ')','','',''], ['(','','','',')',''], ['','(','','',')',''], ['','(','','','',')'], ['','','','(','',')'],['(','(','','','))',''],['','((','','',')',')']]\n",
        "  results = []\n",
        "  for i in permutations(listnum):\n",
        "    for sign in signs:\n",
        "      for par in parenthesis:\n",
        "        formula = par[0]+i[0]+sign[0]+par[1]+i[1]+par[2]+sign[1]+par[3]+i[2]+par[4]+sign[2]+i[3]+par[5]\n",
        "        try: \n",
        "          result = float(sympify(formula))\n",
        "        except: #div by zero error\n",
        "          result = '-1'\n",
        "        if int(result) == result and result > 0:\n",
        "          #print(formula, ' = ', result)\n",
        "          results.append(result)\n",
        "  return list(set(results))\n",
        "def firstnot(listnum):\n",
        "  idx, value = 0,1\n",
        "  while listnum[idx] == value:\n",
        "    idx += 1\n",
        "    value += 1\n",
        "  return value \n",
        "maxfirstnot = 0\n",
        "for a in range(1,7):\n",
        "  for b in range(a+1,8):\n",
        "    for c in range(b+1,9):\n",
        "      for d in range(c+1, 10):\n",
        "        f = firstnot(get_results([str(a),str(b),str(c),str(d)]))\n",
        "        if f > maxfirstnot:\n",
        "          maxfirstnot = f\n",
        "          answer = str(a)+str(b)+str(c)+str(d)\n",
        "          print('f',f,'answer', answer)\n",
        "answer"
      ],
      "metadata": {
        "colab": {
          "base_uri": "https://localhost:8080/",
          "height": 140
        },
        "id": "31pCXwUgfylJ",
        "outputId": "0eef19a9-583d-471e-963b-3545b3108d84"
      },
      "execution_count": 6,
      "outputs": [
        {
          "output_type": "stream",
          "name": "stdout",
          "text": [
            "f 29 answer 1234\n",
            "f 35 answer 1238\n",
            "f 38 answer 1247\n",
            "f 41 answer 1249\n",
            "f 44 answer 1256\n",
            "f 52 answer 1258\n"
          ]
        },
        {
          "output_type": "execute_result",
          "data": {
            "text/plain": [
              "'1258'"
            ],
            "application/vnd.google.colaboratory.intrinsic+json": {
              "type": "string"
            }
          },
          "metadata": {},
          "execution_count": 6
        }
      ]
    }
  ]
}