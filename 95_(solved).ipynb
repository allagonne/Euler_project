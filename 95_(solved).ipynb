{
  "nbformat": 4,
  "nbformat_minor": 0,
  "metadata": {
    "colab": {
      "provenance": [],
      "authorship_tag": "ABX9TyObeHuUFxXy6MUFXPM9GoZf",
      "include_colab_link": true
    },
    "kernelspec": {
      "name": "python3",
      "display_name": "Python 3"
    },
    "language_info": {
      "name": "python"
    }
  },
  "cells": [
    {
      "cell_type": "markdown",
      "metadata": {
        "id": "view-in-github",
        "colab_type": "text"
      },
      "source": [
        "<a href=\"https://colab.research.google.com/github/allagonne/Euler_project/blob/master/95_(solved).ipynb\" target=\"_parent\"><img src=\"https://colab.research.google.com/assets/colab-badge.svg\" alt=\"Open In Colab\"/></a>"
      ]
    },
    {
      "cell_type": "code",
      "execution_count": 26,
      "metadata": {
        "colab": {
          "base_uri": "https://localhost:8080/"
        },
        "id": "6tgLQRcJl-wp",
        "outputId": "a3283717-c664-4350-ff7e-144ce54464d2"
      },
      "outputs": [
        {
          "output_type": "execute_result",
          "data": {
            "text/plain": [
              "[1, 2, 3]"
            ]
          },
          "metadata": {},
          "execution_count": 26
        }
      ],
      "source": [
        "def divisors(n):\n",
        "  div = [1]\n",
        "  for i in range(2, int(n**0.5)+1):\n",
        "    if n%i == 0:\n",
        "      div.append(i)\n",
        "      div.append(int(n/i))\n",
        "  return list(set(div))\n",
        "def divsum(n):\n",
        "  return sum(divisors(n))\n",
        "def gen_sumdivdict(n):\n",
        "  sumdivdict = {}\n",
        "  for i in range(1, n):\n",
        "    sumdivdict[i]=divsum(i)\n",
        "  return sumdivdict\n",
        "divisors(6)"
      ]
    },
    {
      "cell_type": "code",
      "source": [
        "def create_chain(n, sumdivdict, debug = False):\n",
        "  mylist = [n]\n",
        "  test = True\n",
        "  while test:\n",
        "    next = sumdivdict[mylist[-1]]\n",
        "    if debug : print(next, mylist)\n",
        "    if next != 1 and next not in mylist and next < n:\n",
        "      mylist.append(sumdivdict[mylist[-1]])\n",
        "    elif next == n:\n",
        "      test = False\n",
        "      return mylist\n",
        "    else :\n",
        "      test = False\n",
        "      return None\n",
        "  return mylist\n",
        "def longest_chain(n):\n",
        "  sumdivdict = gen_sumdivdict(n+1)\n",
        "  longest_chain_idx, longest_length,longest_chain = 0,0, []\n",
        "  for i in range(1,n+1):\n",
        "    chain = create_chain(i, sumdivdict)\n",
        "    if isinstance(chain, list):\n",
        "      if len(chain) > longest_length:\n",
        "        print('new longest chain', i)\n",
        "        longest_length = len(chain)\n",
        "        longest_chain_idx = i\n",
        "        longest_chain = chain\n",
        "  return (longest_chain_idx, longest_length, longest_chain)\n",
        "longest_chain(10**6)"
      ],
      "metadata": {
        "colab": {
          "base_uri": "https://localhost:8080/"
        },
        "id": "I1RLbZ6Goate",
        "outputId": "0e2858bb-ed85-434b-e106-420dad380a42"
      },
      "execution_count": 41,
      "outputs": [
        {
          "output_type": "stream",
          "name": "stdout",
          "text": [
            "new longest chain 1\n",
            "new longest chain 284\n",
            "new longest chain 15472\n",
            "new longest chain 629072\n"
          ]
        },
        {
          "output_type": "execute_result",
          "data": {
            "text/plain": [
              "(629072,\n",
              " 28,\n",
              " [629072,\n",
              "  589786,\n",
              "  294896,\n",
              "  358336,\n",
              "  418904,\n",
              "  366556,\n",
              "  274924,\n",
              "  275444,\n",
              "  243760,\n",
              "  376736,\n",
              "  381028,\n",
              "  285778,\n",
              "  152990,\n",
              "  122410,\n",
              "  97946,\n",
              "  48976,\n",
              "  45946,\n",
              "  22976,\n",
              "  22744,\n",
              "  19916,\n",
              "  17716,\n",
              "  14316,\n",
              "  19116,\n",
              "  31704,\n",
              "  47616,\n",
              "  83328,\n",
              "  177792,\n",
              "  295488])"
            ]
          },
          "metadata": {},
          "execution_count": 41
        }
      ]
    }
  ]
}