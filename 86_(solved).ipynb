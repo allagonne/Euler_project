{
  "nbformat": 4,
  "nbformat_minor": 0,
  "metadata": {
    "colab": {
      "provenance": [],
      "authorship_tag": "ABX9TyM1IDjz8/sSmUPerSmmV4H9",
      "include_colab_link": true
    },
    "kernelspec": {
      "name": "python3",
      "display_name": "Python 3"
    },
    "language_info": {
      "name": "python"
    }
  },
  "cells": [
    {
      "cell_type": "markdown",
      "metadata": {
        "id": "view-in-github",
        "colab_type": "text"
      },
      "source": [
        "<a href=\"https://colab.research.google.com/github/allagonne/Euler_project/blob/master/86_(solved).ipynb\" target=\"_parent\"><img src=\"https://colab.research.google.com/assets/colab-badge.svg\" alt=\"Open In Colab\"/></a>"
      ]
    },
    {
      "cell_type": "code",
      "execution_count": 5,
      "metadata": {
        "colab": {
          "base_uri": "https://localhost:8080/"
        },
        "id": "Nojau_lP7AfQ",
        "outputId": "a45f654f-7435-40cc-f6ff-f6b2d7116405"
      },
      "outputs": [
        {
          "output_type": "execute_result",
          "data": {
            "text/plain": [
              "10.0"
            ]
          },
          "metadata": {},
          "execution_count": 5
        }
      ],
      "source": [
        "## cuboid route\n",
        "# three ways : either L*l + L*h / L*l + l*h / l*h + L*h\n",
        "from math import sqrt\n",
        "def is_integer(f):\n",
        "  if f == int(f):\n",
        "    return True\n",
        "  return False\n",
        "def get_distance(L, l, h):\n",
        "  d1 = sqrt(L**2 + (l+h)**2)\n",
        "  d2 = sqrt(l**2 + (L+h)**2)\n",
        "  d3 = sqrt(h**2 + (L+l)**2)\n",
        "  return min(d1, d2, d3)\n",
        "get_distance(6,5,3)"
      ]
    },
    {
      "cell_type": "code",
      "source": [
        "M = 100\n",
        "cnt = 0\n",
        "for L in range(1, M+1):\n",
        "  for l in range(1, L+1):\n",
        "    for h in range(1, l+1):\n",
        "      d = get_distance(L,l,h)\n",
        "      #print(L,l,h,d,is_integer(d))\n",
        "      if is_integer(d):\n",
        "        cnt +=1\n",
        "print(cnt)"
      ],
      "metadata": {
        "colab": {
          "base_uri": "https://localhost:8080/"
        },
        "id": "apRC2oyX9Wsa",
        "outputId": "ec711f4a-94ff-432d-fa7a-7d27362520b0"
      },
      "execution_count": 9,
      "outputs": [
        {
          "output_type": "stream",
          "name": "stdout",
          "text": [
            "2060\n"
          ]
        }
      ]
    },
    {
      "cell_type": "code",
      "source": [
        "maxi = 10**6\n",
        "L = 1\n",
        "cnt = 0\n",
        "while cnt < maxi:\n",
        "  for l in range(1, L+1):\n",
        "    for h in range(1, l+1):\n",
        "      d = get_distance(L,l,h)\n",
        "      #print(L,l,h,d,is_integer(d))\n",
        "      if is_integer(d):\n",
        "        cnt +=1\n",
        "  L += 1\n",
        "print(cnt, L-1)"
      ],
      "metadata": {
        "colab": {
          "base_uri": "https://localhost:8080/"
        },
        "id": "eGXPn-oT-bKS",
        "outputId": "5a946237-77ec-4ec1-aeb7-cecaa55a6c48"
      },
      "execution_count": 16,
      "outputs": [
        {
          "output_type": "stream",
          "name": "stdout",
          "text": [
            "1000457 1818\n"
          ]
        }
      ]
    }
  ]
}